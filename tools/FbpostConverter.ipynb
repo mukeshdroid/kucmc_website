{
 "cells": [
  {
   "attachments": {},
   "cell_type": "markdown",
   "metadata": {},
   "source": [
    "FB page"
   ]
  },
  {
   "cell_type": "code",
   "execution_count": 297,
   "metadata": {},
   "outputs": [
    {
     "name": "stdout",
     "output_type": "stream",
     "text": [
      "93\n",
      "idk\n",
      "---\n"
     ]
    }
   ],
   "source": [
    "from bs4 import BeautifulSoup\n",
    "\n",
    "# Load the HTML file\n",
    "with open(r'D:\\projects\\jekyllCM\\kucmc_website\\tools\\FBpageOrg.html', 'r') as file:\n",
    "    html_content = file.read()\n",
    "\n",
    "# Parse the HTML\n",
    "soup = BeautifulSoup(html_content, 'html.parser')\n",
    "\n",
    "# Find all post containers\n",
    "post_containers = soup.find_all('div', class_='x1iorvi4 x1pi30zi x1l90r2v x1swvt13')\n",
    "\n",
    "print(len(post_containers))\n",
    "# Extract post content\n",
    "for container in post_containers[10:13]:\n",
    "    actualPostCont = container.parent.parent\n",
    "    Allposts =[]\n",
    "    try:\n",
    "        postDetail=[]\n",
    "        # print(container)\n",
    "        # print(container.parent.parent.find(\"use\").get(\"xlink:href\")[1:])\n",
    "    \n",
    "        dates = soup.find(\"text\",id=container.parent.parent.find_all(\"use\")[1].get(\"xlink:href\")[1:])\n",
    "        print(dates.text)   \n",
    "\n",
    "        post_text = container.find_all('div')[0].find('div',class_=\"xdj266r x11i5rnm xat24cr x1mh8g0r x1vvkbs x126k92a\").text.split(\"\\n\")\n",
    "        captionText=\"\"\n",
    "        for i in post_text:\n",
    "            captionText+=i.strip()+\" \"\n",
    "        print(captionText)\n",
    "        postDetail.append(captionText)\n",
    "\n",
    "\n",
    "        images = actualPostCont.find_all(\"div\",class_=\"x6ikm8r x10wlt62 x10l6tqk\")\n",
    "        imgLinks =[]\n",
    "        for img in images:\n",
    "            imgLinks.append(img.find(\"img\").get(\"src\"))\n",
    "        if imgLinks:\n",
    "            Allposts.append(postDetail)\n",
    "    except:\n",
    "        print(\"idk\") \n",
    "    print('---')\n",
    "    break\n"
   ]
  },
  {
   "attachments": {},
   "cell_type": "markdown",
   "metadata": {},
   "source": [
    "# Valid Date Maker"
   ]
  },
  {
   "cell_type": "code",
   "execution_count": null,
   "metadata": {},
   "outputs": [],
   "source": [
    "from datetime import datetime\n",
    "\n",
    "def convert_dates(date_strings):\n",
    "    converted_dates = []\n",
    "    current_year = datetime.now().year\n",
    "\n",
    "    for date_str in date_strings:\n",
    "        try:\n",
    "            date_obj = datetime.strptime(date_str, \"%B %d\")\n",
    "        except ValueError:\n",
    "            date_obj = datetime.strptime(date_str, \"%B %d, %Y\")\n",
    "        date_obj = date_obj.replace(year=current_year)\n",
    "        converted_dates.append(date_obj.strftime(\"%Y-%m-%d\"))\n",
    "\n",
    "    return converted_dates"
   ]
  },
  {
   "attachments": {},
   "cell_type": "markdown",
   "metadata": {},
   "source": [
    "# Filename Validator"
   ]
  },
  {
   "cell_type": "code",
   "execution_count": null,
   "metadata": {},
   "outputs": [],
   "source": [
    "import re\n",
    "\n",
    "def sanitize_folder_name(name):\n",
    "    # Remove any characters that are not letters, numbers, or spaces\n",
    "    sanitized_name = re.sub(r'[^\\w\\s]', '', name)\n",
    "    # Remove leading/trailing spaces and replace internal spaces with underscores\n",
    "    sanitized_name = sanitized_name.strip().replace(' ', '_')\n",
    "    return sanitized_name\n"
   ]
  },
  {
   "attachments": {},
   "cell_type": "markdown",
   "metadata": {},
   "source": [
    "# Title Maker"
   ]
  },
  {
   "cell_type": "code",
   "execution_count": null,
   "metadata": {},
   "outputs": [],
   "source": [
    "from sumy.parsers.plaintext import PlaintextParser\n",
    "from sumy.nlp.tokenizers import Tokenizer\n",
    "from sumy.summarizers.lex_rank import LexRankSummarizer\n",
    "\n",
    "def generate_title_from_paragraph(paragraph):\n",
    "    # Initialize the parser and tokenizer\n",
    "    parser = PlaintextParser.from_string(paragraph, Tokenizer(\"english\"))\n",
    "\n",
    "    # Initialize the LexRank summarizer\n",
    "    summarizer = LexRankSummarizer()\n",
    "\n",
    "    # Generate the summary (title) from the paragraph\n",
    "    summary = summarizer(parser.document, 1)\n",
    "\n",
    "    if summary:\n",
    "        # Extract the title as a complete sentence\n",
    "        title = str(summary[0]).strip()\n",
    "    else:\n",
    "        # Fallback: Use the first sentence as the title\n",
    "        sentences = list(parser.document.sentences)\n",
    "        if sentences:\n",
    "            title = str(sentences[0]).strip()\n",
    "        else:\n",
    "            # If no sentences are present, return an empty string\n",
    "            title = paragraph\n",
    "\n",
    "    return title\n"
   ]
  },
  {
   "attachments": {},
   "cell_type": "markdown",
   "metadata": {},
   "source": [
    "# Keywords maker"
   ]
  },
  {
   "cell_type": "code",
   "execution_count": null,
   "metadata": {},
   "outputs": [],
   "source": [
    "import nltk\n",
    "from nltk.tokenize import word_tokenize\n",
    "from nltk.corpus import stopwords\n",
    "from nltk.probability import FreqDist\n",
    "import string\n",
    "\n",
    "nltk.download('punkt')\n",
    "nltk.download('stopwords')\n",
    "\n",
    "def extract_top_keywords(paragraph, top_n=5):\n",
    "    # Tokenize the paragraph into words\n",
    "    words = word_tokenize(paragraph)\n",
    "\n",
    "    # Remove stopwords and punctuation\n",
    "    stop_words = set(stopwords.words('english'))\n",
    "    punctuation = set(string.punctuation)\n",
    "    words = [word.lower() for word in words if word.lower() not in stop_words and word not in punctuation]\n",
    "\n",
    "    # Calculate word frequency distribution\n",
    "    fdist = FreqDist(words)\n",
    "\n",
    "    # Get the most common words as keywords\n",
    "    top_keywords = fdist.most_common(top_n)\n",
    "\n",
    "    return [keyword for keyword, _ in top_keywords]"
   ]
  },
  {
   "attachments": {},
   "cell_type": "markdown",
   "metadata": {},
   "source": [
    "# File Creator"
   ]
  },
  {
   "cell_type": "code",
   "execution_count": null,
   "metadata": {},
   "outputs": [],
   "source": [
    "print(len(Allposts))"
   ]
  }
 ],
 "metadata": {
  "kernelspec": {
   "display_name": "dl_pytorch_env",
   "language": "python",
   "name": "python3"
  },
  "language_info": {
   "codemirror_mode": {
    "name": "ipython",
    "version": 3
   },
   "file_extension": ".py",
   "mimetype": "text/x-python",
   "name": "python",
   "nbconvert_exporter": "python",
   "pygments_lexer": "ipython3",
   "version": "3.7.7"
  },
  "orig_nbformat": 4
 },
 "nbformat": 4,
 "nbformat_minor": 2
}
